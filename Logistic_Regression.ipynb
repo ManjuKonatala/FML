{
  "nbformat": 4,
  "nbformat_minor": 0,
  "metadata": {
    "colab": {
      "provenance": [],
      "mount_file_id": "1Hk97teBJ8BSh9AmyDDzPW1jlsttAdz8J",
      "authorship_tag": "ABX9TyOCpl/D2w31dlVgoLLiaMnK",
      "include_colab_link": true
    },
    "kernelspec": {
      "name": "python3",
      "display_name": "Python 3"
    },
    "language_info": {
      "name": "python"
    }
  },
  "cells": [
    {
      "cell_type": "markdown",
      "metadata": {
        "id": "view-in-github",
        "colab_type": "text"
      },
      "source": [
        "<a href=\"https://colab.research.google.com/github/ManjuKonatala/FML/blob/main/Logistic_Regression.ipynb\" target=\"_parent\"><img src=\"https://colab.research.google.com/assets/colab-badge.svg\" alt=\"Open In Colab\"/></a>"
      ]
    },
    {
      "cell_type": "code",
      "execution_count": null,
      "metadata": {
        "id": "pwE5C9mBYcZr"
      },
      "outputs": [],
      "source": [
        "import numpy as np\n",
        "import pandas as pd\n",
        "import matplotlib.pyplot as plt"
      ]
    },
    {
      "cell_type": "code",
      "source": [
        "dt=pd.read_csv(\"/content/lr.csv\")"
      ],
      "metadata": {
        "id": "GaeG7j7xhNTz"
      },
      "execution_count": null,
      "outputs": []
    },
    {
      "cell_type": "code",
      "source": [
        "dt.head()"
      ],
      "metadata": {
        "colab": {
          "base_uri": "https://localhost:8080/",
          "height": 203
        },
        "id": "Qg9YYEN9nMtY",
        "outputId": "a598c8fe-ae25-4cea-9a81-e0fda73d0baa"
      },
      "execution_count": null,
      "outputs": [
        {
          "output_type": "execute_result",
          "data": {
            "text/plain": [
              "    User ID  Gender  Age  EstimatedSalary  Purchased\n",
              "0  15624510    Male   19            19000          0\n",
              "1  15810944    Male   35            20000          0\n",
              "2  15668575  Female   26            43000          0\n",
              "3  15603246  Female   27            57000          0\n",
              "4  15804002    Male   19            76000          0"
            ],
            "text/html": [
              "\n",
              "  <div id=\"df-7355d874-b7d1-4e39-9aa6-6595028b3201\">\n",
              "    <div class=\"colab-df-container\">\n",
              "      <div>\n",
              "<style scoped>\n",
              "    .dataframe tbody tr th:only-of-type {\n",
              "        vertical-align: middle;\n",
              "    }\n",
              "\n",
              "    .dataframe tbody tr th {\n",
              "        vertical-align: top;\n",
              "    }\n",
              "\n",
              "    .dataframe thead th {\n",
              "        text-align: right;\n",
              "    }\n",
              "</style>\n",
              "<table border=\"1\" class=\"dataframe\">\n",
              "  <thead>\n",
              "    <tr style=\"text-align: right;\">\n",
              "      <th></th>\n",
              "      <th>User ID</th>\n",
              "      <th>Gender</th>\n",
              "      <th>Age</th>\n",
              "      <th>EstimatedSalary</th>\n",
              "      <th>Purchased</th>\n",
              "    </tr>\n",
              "  </thead>\n",
              "  <tbody>\n",
              "    <tr>\n",
              "      <th>0</th>\n",
              "      <td>15624510</td>\n",
              "      <td>Male</td>\n",
              "      <td>19</td>\n",
              "      <td>19000</td>\n",
              "      <td>0</td>\n",
              "    </tr>\n",
              "    <tr>\n",
              "      <th>1</th>\n",
              "      <td>15810944</td>\n",
              "      <td>Male</td>\n",
              "      <td>35</td>\n",
              "      <td>20000</td>\n",
              "      <td>0</td>\n",
              "    </tr>\n",
              "    <tr>\n",
              "      <th>2</th>\n",
              "      <td>15668575</td>\n",
              "      <td>Female</td>\n",
              "      <td>26</td>\n",
              "      <td>43000</td>\n",
              "      <td>0</td>\n",
              "    </tr>\n",
              "    <tr>\n",
              "      <th>3</th>\n",
              "      <td>15603246</td>\n",
              "      <td>Female</td>\n",
              "      <td>27</td>\n",
              "      <td>57000</td>\n",
              "      <td>0</td>\n",
              "    </tr>\n",
              "    <tr>\n",
              "      <th>4</th>\n",
              "      <td>15804002</td>\n",
              "      <td>Male</td>\n",
              "      <td>19</td>\n",
              "      <td>76000</td>\n",
              "      <td>0</td>\n",
              "    </tr>\n",
              "  </tbody>\n",
              "</table>\n",
              "</div>\n",
              "      <button class=\"colab-df-convert\" onclick=\"convertToInteractive('df-7355d874-b7d1-4e39-9aa6-6595028b3201')\"\n",
              "              title=\"Convert this dataframe to an interactive table.\"\n",
              "              style=\"display:none;\">\n",
              "        \n",
              "  <svg xmlns=\"http://www.w3.org/2000/svg\" height=\"24px\"viewBox=\"0 0 24 24\"\n",
              "       width=\"24px\">\n",
              "    <path d=\"M0 0h24v24H0V0z\" fill=\"none\"/>\n",
              "    <path d=\"M18.56 5.44l.94 2.06.94-2.06 2.06-.94-2.06-.94-.94-2.06-.94 2.06-2.06.94zm-11 1L8.5 8.5l.94-2.06 2.06-.94-2.06-.94L8.5 2.5l-.94 2.06-2.06.94zm10 10l.94 2.06.94-2.06 2.06-.94-2.06-.94-.94-2.06-.94 2.06-2.06.94z\"/><path d=\"M17.41 7.96l-1.37-1.37c-.4-.4-.92-.59-1.43-.59-.52 0-1.04.2-1.43.59L10.3 9.45l-7.72 7.72c-.78.78-.78 2.05 0 2.83L4 21.41c.39.39.9.59 1.41.59.51 0 1.02-.2 1.41-.59l7.78-7.78 2.81-2.81c.8-.78.8-2.07 0-2.86zM5.41 20L4 18.59l7.72-7.72 1.47 1.35L5.41 20z\"/>\n",
              "  </svg>\n",
              "      </button>\n",
              "      \n",
              "  <style>\n",
              "    .colab-df-container {\n",
              "      display:flex;\n",
              "      flex-wrap:wrap;\n",
              "      gap: 12px;\n",
              "    }\n",
              "\n",
              "    .colab-df-convert {\n",
              "      background-color: #E8F0FE;\n",
              "      border: none;\n",
              "      border-radius: 50%;\n",
              "      cursor: pointer;\n",
              "      display: none;\n",
              "      fill: #1967D2;\n",
              "      height: 32px;\n",
              "      padding: 0 0 0 0;\n",
              "      width: 32px;\n",
              "    }\n",
              "\n",
              "    .colab-df-convert:hover {\n",
              "      background-color: #E2EBFA;\n",
              "      box-shadow: 0px 1px 2px rgba(60, 64, 67, 0.3), 0px 1px 3px 1px rgba(60, 64, 67, 0.15);\n",
              "      fill: #174EA6;\n",
              "    }\n",
              "\n",
              "    [theme=dark] .colab-df-convert {\n",
              "      background-color: #3B4455;\n",
              "      fill: #D2E3FC;\n",
              "    }\n",
              "\n",
              "    [theme=dark] .colab-df-convert:hover {\n",
              "      background-color: #434B5C;\n",
              "      box-shadow: 0px 1px 3px 1px rgba(0, 0, 0, 0.15);\n",
              "      filter: drop-shadow(0px 1px 2px rgba(0, 0, 0, 0.3));\n",
              "      fill: #FFFFFF;\n",
              "    }\n",
              "  </style>\n",
              "\n",
              "      <script>\n",
              "        const buttonEl =\n",
              "          document.querySelector('#df-7355d874-b7d1-4e39-9aa6-6595028b3201 button.colab-df-convert');\n",
              "        buttonEl.style.display =\n",
              "          google.colab.kernel.accessAllowed ? 'block' : 'none';\n",
              "\n",
              "        async function convertToInteractive(key) {\n",
              "          const element = document.querySelector('#df-7355d874-b7d1-4e39-9aa6-6595028b3201');\n",
              "          const dataTable =\n",
              "            await google.colab.kernel.invokeFunction('convertToInteractive',\n",
              "                                                     [key], {});\n",
              "          if (!dataTable) return;\n",
              "\n",
              "          const docLinkHtml = 'Like what you see? Visit the ' +\n",
              "            '<a target=\"_blank\" href=https://colab.research.google.com/notebooks/data_table.ipynb>data table notebook</a>'\n",
              "            + ' to learn more about interactive tables.';\n",
              "          element.innerHTML = '';\n",
              "          dataTable['output_type'] = 'display_data';\n",
              "          await google.colab.output.renderOutput(dataTable, element);\n",
              "          const docLink = document.createElement('div');\n",
              "          docLink.innerHTML = docLinkHtml;\n",
              "          element.appendChild(docLink);\n",
              "        }\n",
              "      </script>\n",
              "    </div>\n",
              "  </div>\n",
              "  "
            ]
          },
          "metadata": {},
          "execution_count": 3
        }
      ]
    },
    {
      "cell_type": "code",
      "source": [
        "dt.info()"
      ],
      "metadata": {
        "colab": {
          "base_uri": "https://localhost:8080/"
        },
        "id": "mP-MEytOpLO_",
        "outputId": "b96f0e1d-9670-425f-990d-118d2fbb5f34"
      },
      "execution_count": null,
      "outputs": [
        {
          "output_type": "stream",
          "name": "stdout",
          "text": [
            "<class 'pandas.core.frame.DataFrame'>\n",
            "RangeIndex: 400 entries, 0 to 399\n",
            "Data columns (total 5 columns):\n",
            " #   Column           Non-Null Count  Dtype \n",
            "---  ------           --------------  ----- \n",
            " 0   User ID          400 non-null    int64 \n",
            " 1   Gender           400 non-null    object\n",
            " 2   Age              400 non-null    int64 \n",
            " 3   EstimatedSalary  400 non-null    int64 \n",
            " 4   Purchased        400 non-null    int64 \n",
            "dtypes: int64(4), object(1)\n",
            "memory usage: 15.8+ KB\n"
          ]
        }
      ]
    },
    {
      "cell_type": "code",
      "source": [
        "dt.isnull().sum()"
      ],
      "metadata": {
        "colab": {
          "base_uri": "https://localhost:8080/"
        },
        "id": "3lKuuV2Xtdy9",
        "outputId": "c6d78379-2bc8-4369-fdbe-e6ea6fd27bc3"
      },
      "execution_count": null,
      "outputs": [
        {
          "output_type": "execute_result",
          "data": {
            "text/plain": [
              "User ID            0\n",
              "Gender             0\n",
              "Age                0\n",
              "EstimatedSalary    0\n",
              "Purchased          0\n",
              "dtype: int64"
            ]
          },
          "metadata": {},
          "execution_count": 11
        }
      ]
    },
    {
      "cell_type": "code",
      "source": [
        "x=dt.iloc[:,:-1].values"
      ],
      "metadata": {
        "id": "p8vJNfClsK68"
      },
      "execution_count": null,
      "outputs": []
    },
    {
      "cell_type": "code",
      "source": [
        "x"
      ],
      "metadata": {
        "colab": {
          "base_uri": "https://localhost:8080/"
        },
        "id": "9o3jeY6XsyMN",
        "outputId": "74c8ef18-5ecf-4e50-963b-1afc6b7dbf98"
      },
      "execution_count": null,
      "outputs": [
        {
          "output_type": "execute_result",
          "data": {
            "text/plain": [
              "array([[15624510, 'Male', 19, 19000],\n",
              "       [15810944, 'Male', 35, 20000],\n",
              "       [15668575, 'Female', 26, 43000],\n",
              "       ...,\n",
              "       [15654296, 'Female', 50, 20000],\n",
              "       [15755018, 'Male', 36, 33000],\n",
              "       [15594041, 'Female', 49, 36000]], dtype=object)"
            ]
          },
          "metadata": {},
          "execution_count": 8
        }
      ]
    },
    {
      "cell_type": "code",
      "source": [
        "y=dt.iloc[:,4].values"
      ],
      "metadata": {
        "id": "sC-4784Zs5fd"
      },
      "execution_count": null,
      "outputs": []
    },
    {
      "cell_type": "code",
      "source": [
        "y"
      ],
      "metadata": {
        "colab": {
          "base_uri": "https://localhost:8080/"
        },
        "id": "AU_OGnNatLFl",
        "outputId": "547481aa-4216-48c3-80e1-84091ff08584"
      },
      "execution_count": null,
      "outputs": [
        {
          "output_type": "execute_result",
          "data": {
            "text/plain": [
              "array([0, 0, 0, 0, 0, 0, 0, 1, 0, 0, 0, 0, 0, 0, 0, 0, 1, 1, 1, 1, 1, 1,\n",
              "       1, 1, 1, 1, 1, 1, 0, 0, 0, 1, 0, 0, 0, 0, 0, 0, 0, 0, 0, 0, 0, 0,\n",
              "       0, 0, 0, 0, 1, 0, 0, 0, 0, 0, 0, 0, 0, 0, 0, 0, 0, 0, 0, 1, 0, 0,\n",
              "       0, 0, 0, 0, 0, 0, 0, 0, 0, 1, 0, 0, 0, 0, 0, 0, 0, 0, 0, 1, 0, 0,\n",
              "       0, 0, 0, 0, 0, 0, 0, 0, 0, 1, 0, 0, 0, 0, 0, 1, 0, 0, 0, 0, 0, 0,\n",
              "       0, 0, 0, 0, 0, 0, 0, 0, 0, 0, 0, 0, 0, 0, 0, 0, 0, 0, 0, 0, 0, 0,\n",
              "       0, 0, 0, 0, 0, 1, 0, 0, 0, 0, 0, 0, 0, 0, 1, 0, 0, 0, 0, 0, 0, 0,\n",
              "       0, 0, 0, 0, 0, 1, 1, 0, 0, 0, 0, 0, 0, 0, 1, 0, 0, 0, 0, 0, 0, 0,\n",
              "       0, 0, 0, 0, 0, 0, 1, 0, 0, 0, 0, 0, 0, 0, 0, 0, 0, 0, 0, 0, 0, 0,\n",
              "       0, 0, 0, 0, 1, 0, 1, 0, 1, 0, 1, 0, 1, 1, 0, 0, 0, 1, 0, 0, 0, 1,\n",
              "       0, 1, 1, 1, 0, 0, 1, 1, 0, 1, 1, 0, 1, 1, 0, 1, 0, 0, 0, 1, 1, 0,\n",
              "       1, 1, 0, 1, 0, 1, 0, 1, 0, 0, 1, 1, 0, 1, 0, 0, 1, 1, 0, 1, 1, 0,\n",
              "       1, 1, 0, 0, 1, 0, 0, 1, 1, 1, 1, 1, 0, 1, 1, 1, 1, 0, 1, 1, 0, 1,\n",
              "       0, 1, 0, 1, 1, 1, 1, 0, 0, 0, 1, 1, 0, 1, 1, 1, 1, 1, 0, 0, 0, 1,\n",
              "       1, 0, 0, 1, 0, 1, 0, 1, 1, 0, 1, 0, 1, 1, 0, 1, 1, 0, 0, 0, 1, 1,\n",
              "       0, 1, 0, 0, 1, 0, 1, 0, 0, 1, 1, 0, 0, 1, 1, 0, 1, 1, 0, 0, 1, 0,\n",
              "       1, 0, 1, 1, 1, 0, 1, 0, 1, 1, 1, 0, 1, 1, 1, 1, 0, 1, 1, 1, 0, 1,\n",
              "       0, 1, 0, 0, 1, 1, 0, 1, 1, 1, 1, 1, 1, 0, 1, 1, 1, 1, 1, 1, 0, 1,\n",
              "       1, 1, 0, 1])"
            ]
          },
          "metadata": {},
          "execution_count": 10
        }
      ]
    },
    {
      "cell_type": "code",
      "source": [
        "from sklearn.preprocessing import LabelEncoder\n",
        "label_encoder_x=LabelEncoder()\n",
        "x[:,1]=label_encoder_x.fit_transform(x[:,1])"
      ],
      "metadata": {
        "id": "bGvHzqddpz-5"
      },
      "execution_count": null,
      "outputs": []
    },
    {
      "cell_type": "code",
      "source": [
        "x[:,1]"
      ],
      "metadata": {
        "colab": {
          "base_uri": "https://localhost:8080/"
        },
        "id": "1k9bCaDAueMb",
        "outputId": "6911487f-d39d-4a5b-9f67-91066f849659"
      },
      "execution_count": null,
      "outputs": [
        {
          "output_type": "execute_result",
          "data": {
            "text/plain": [
              "array([1, 1, 0, 0, 1, 1, 0, 0, 1, 0, 0, 0, 1, 1, 1, 1, 1, 1, 1, 0, 1, 0,\n",
              "       1, 0, 1, 1, 1, 0, 1, 1, 1, 0, 0, 0, 1, 1, 0, 1, 0, 0, 0, 0, 1, 1,\n",
              "       0, 1, 1, 0, 1, 0, 0, 0, 0, 0, 0, 0, 0, 1, 1, 0, 1, 1, 0, 1, 0, 1,\n",
              "       1, 0, 0, 0, 1, 0, 0, 0, 1, 1, 1, 0, 0, 0, 1, 1, 1, 1, 0, 0, 1, 0,\n",
              "       1, 1, 1, 0, 1, 0, 0, 0, 0, 1, 1, 0, 1, 1, 0, 0, 0, 1, 0, 1, 1, 0,\n",
              "       0, 0, 1, 1, 1, 1, 1, 1, 1, 1, 0, 1, 0, 1, 0, 0, 1, 1, 1, 0, 1, 1,\n",
              "       1, 0, 0, 1, 0, 1, 0, 1, 1, 0, 1, 1, 0, 0, 0, 0, 1, 1, 0, 1, 1, 0,\n",
              "       1, 0, 1, 1, 1, 0, 1, 1, 0, 1, 0, 0, 0, 0, 1, 0, 1, 1, 0, 0, 0, 0,\n",
              "       0, 1, 1, 0, 1, 0, 0, 1, 0, 1, 0, 0, 1, 1, 1, 0, 1, 1, 1, 1, 0, 0,\n",
              "       1, 1, 1, 1, 0, 0, 0, 0, 0, 0, 0, 0, 0, 1, 0, 1, 1, 0, 1, 1, 0, 1,\n",
              "       0, 1, 1, 1, 0, 1, 0, 1, 0, 0, 0, 1, 1, 1, 0, 1, 1, 0, 0, 0, 1, 1,\n",
              "       0, 0, 0, 0, 0, 0, 1, 0, 0, 1, 0, 0, 0, 0, 0, 1, 0, 0, 0, 1, 0, 0,\n",
              "       1, 0, 1, 1, 0, 1, 0, 0, 1, 1, 0, 1, 1, 1, 0, 0, 0, 1, 1, 0, 1, 0,\n",
              "       0, 0, 1, 0, 1, 1, 1, 1, 0, 0, 1, 0, 1, 1, 0, 1, 0, 1, 0, 1, 0, 0,\n",
              "       1, 0, 0, 1, 0, 0, 0, 0, 0, 1, 1, 1, 0, 0, 1, 0, 0, 0, 1, 0, 1, 0,\n",
              "       1, 0, 1, 1, 1, 0, 1, 1, 0, 1, 0, 1, 0, 0, 1, 0, 1, 0, 1, 1, 0, 1,\n",
              "       0, 0, 1, 1, 1, 0, 1, 1, 1, 0, 0, 0, 1, 0, 0, 1, 1, 0, 0, 1, 0, 1,\n",
              "       0, 0, 0, 0, 1, 0, 1, 1, 0, 1, 0, 1, 0, 1, 1, 0, 1, 1, 0, 1, 0, 0,\n",
              "       1, 0, 1, 0], dtype=object)"
            ]
          },
          "metadata": {},
          "execution_count": 13
        }
      ]
    },
    {
      "cell_type": "code",
      "source": [
        "x"
      ],
      "metadata": {
        "colab": {
          "base_uri": "https://localhost:8080/"
        },
        "id": "S1X9RdIQuyBn",
        "outputId": "5c0bf740-6e7d-489a-9e17-3d741a66b164"
      },
      "execution_count": null,
      "outputs": [
        {
          "output_type": "execute_result",
          "data": {
            "text/plain": [
              "array([[15624510, 1, 19, 19000],\n",
              "       [15810944, 1, 35, 20000],\n",
              "       [15668575, 0, 26, 43000],\n",
              "       ...,\n",
              "       [15654296, 0, 50, 20000],\n",
              "       [15755018, 1, 36, 33000],\n",
              "       [15594041, 0, 49, 36000]], dtype=object)"
            ]
          },
          "metadata": {},
          "execution_count": 14
        }
      ]
    },
    {
      "cell_type": "code",
      "source": [
        "from sklearn.model_selection import train_test_split\n",
        "x_train,x_test,y_train,y_test=train_test_split(x,y,test_size=0.2,random_state=0)"
      ],
      "metadata": {
        "id": "0Mwd42VOv9M1"
      },
      "execution_count": null,
      "outputs": []
    },
    {
      "cell_type": "code",
      "source": [
        "from sklearn.preprocessing import StandardScaler"
      ],
      "metadata": {
        "id": "YKIXVCxzxtTl"
      },
      "execution_count": null,
      "outputs": []
    },
    {
      "cell_type": "code",
      "source": [
        "st_x= StandardScaler()  \n",
        "x_train= st_x.fit_transform(x_train) "
      ],
      "metadata": {
        "id": "cPDApS3DyemO"
      },
      "execution_count": null,
      "outputs": []
    },
    {
      "cell_type": "code",
      "source": [
        "x_train"
      ],
      "metadata": {
        "colab": {
          "base_uri": "https://localhost:8080/"
        },
        "id": "vYwWiFIQyuQ8",
        "outputId": "68dbbae5-9c07-46ea-f8f3-2ad7bc4a5849"
      },
      "execution_count": null,
      "outputs": [
        {
          "output_type": "execute_result",
          "data": {
            "text/plain": [
              "array([[-0.37311852,  1.02532046,  1.92295008,  2.14601566],\n",
              "       [-1.22319878, -0.97530483,  2.02016082,  0.3787193 ],\n",
              "       [-0.596909  , -0.97530483, -1.3822153 , -0.4324987 ],\n",
              "       ...,\n",
              "       [-1.4157145 ,  1.02532046, -0.21568634, -0.51941492],\n",
              "       [ 1.20822913, -0.97530483, -1.09058306, -0.46147078],\n",
              "       [ 1.46809058, -0.97530483, -1.18779381,  1.3927418 ]])"
            ]
          },
          "metadata": {},
          "execution_count": 23
        }
      ]
    },
    {
      "cell_type": "code",
      "source": [
        "x_test=st_x.transform(x_test)"
      ],
      "metadata": {
        "id": "jXlbEkU9y6Zv"
      },
      "execution_count": null,
      "outputs": []
    },
    {
      "cell_type": "code",
      "source": [
        "x_test"
      ],
      "metadata": {
        "colab": {
          "base_uri": "https://localhost:8080/"
        },
        "id": "VPOwOoIRzH5A",
        "outputId": "3aaeed4e-0293-434c-ee85-e23fa651480c"
      },
      "execution_count": null,
      "outputs": [
        {
          "output_type": "execute_result",
          "data": {
            "text/plain": [
              "array([[ 4.88966473e-01,  1.02532046e+00, -7.98950822e-01,\n",
              "         4.94607583e-01],\n",
              "       [-5.50592839e-01, -9.75304830e-01, -2.12648508e-02,\n",
              "        -5.77359062e-01],\n",
              "       [ 1.21526737e+00,  1.02532046e+00, -3.12897090e-01,\n",
              "         1.46942725e-01],\n",
              "       [ 6.70428177e-01, -9.75304830e-01, -7.98950822e-01,\n",
              "         2.62831011e-01],\n",
              "       [-7.54886252e-01, -9.75304830e-01, -3.12897090e-01,\n",
              "        -5.77359062e-01],\n",
              "       [ 1.74256773e+00,  1.02532046e+00, -1.09058306e+00,\n",
              "        -1.44652121e+00],\n",
              "       [-1.15026219e+00, -9.75304830e-01, -7.01740076e-01,\n",
              "        -1.59138156e+00],\n",
              "       [-1.50619343e-01,  1.02532046e+00, -2.15686344e-01,\n",
              "         2.14601566e+00],\n",
              "       [-3.55608066e-01, -9.75304830e-01, -1.96547978e+00,\n",
              "        -5.58617754e-02],\n",
              "       [-9.75185983e-01,  1.02532046e+00,  8.53631867e-01,\n",
              "        -7.80163563e-01],\n",
              "       [-2.52081338e-02,  1.02532046e+00, -7.98950822e-01,\n",
              "        -6.06331134e-01],\n",
              "       [ 1.54471657e+00, -9.75304830e-01, -9.93372315e-01,\n",
              "        -4.32498705e-01],\n",
              "       [ 1.16706395e+00,  1.02532046e+00, -1.18475597e-01,\n",
              "        -4.32498705e-01],\n",
              "       [-1.58913047e+00,  1.02532046e+00,  7.59458956e-02,\n",
              "         2.04886868e-01],\n",
              "       [ 7.79563458e-01,  1.02532046e+00, -1.77105829e+00,\n",
              "         4.65635512e-01],\n",
              "       [ 1.38930771e+00, -9.75304830e-01, -6.04529329e-01,\n",
              "         1.36376973e+00],\n",
              "       [ 9.84339331e-01,  1.02532046e+00, -1.18475597e-01,\n",
              "         2.04886868e-01],\n",
              "       [ 1.65607968e+00,  1.02532046e+00, -1.86826903e+00,\n",
              "         4.36663440e-01],\n",
              "       [-5.24625142e-01, -9.75304830e-01,  1.63131784e+00,\n",
              "         1.74040666e+00],\n",
              "       [ 2.41606414e-01,  1.02532046e+00, -3.12897090e-01,\n",
              "        -1.38857706e+00],\n",
              "       [-1.15717272e+00, -9.75304830e-01, -3.12897090e-01,\n",
              "        -6.64275277e-01],\n",
              "       [ 7.80471618e-01, -9.75304830e-01,  8.53631867e-01,\n",
              "         2.14601566e+00],\n",
              "       [-1.84944950e-01, -9.75304830e-01,  2.70367388e-01,\n",
              "        -5.48386991e-01],\n",
              "       [ 5.49245588e-01,  1.02532046e+00,  8.53631867e-01,\n",
              "         1.01610487e+00],\n",
              "       [-1.08952899e+00, -9.75304830e-01, -1.47942605e+00,\n",
              "        -1.21474464e+00],\n",
              "       [ 8.89138629e-01, -9.75304830e-01,  1.04805336e+00,\n",
              "         2.05909944e+00],\n",
              "       [-3.39658507e-01, -9.75304830e-01, -9.93372315e-01,\n",
              "         4.94607583e-01],\n",
              "       [ 9.20154463e-02,  1.02532046e+00, -8.96161568e-01,\n",
              "         2.91803083e-01],\n",
              "       [-8.53265514e-01, -9.75304830e-01, -1.18475597e-01,\n",
              "        -2.29694204e-01],\n",
              "       [-1.51345521e+00, -9.75304830e-01, -6.04529329e-01,\n",
              "         4.65635512e-01],\n",
              "       [-1.47843429e+00,  1.02532046e+00, -1.67384754e+00,\n",
              "         5.23579655e-01],\n",
              "       [-7.60704152e-01,  1.02532046e+00, -1.18475597e-01,\n",
              "         2.62831011e-01],\n",
              "       [ 1.75035804e+00,  1.02532046e+00,  1.82573933e+00,\n",
              "        -2.87638347e-01],\n",
              "       [-9.79542313e-01,  1.02532046e+00, -1.18475597e-01,\n",
              "        -4.90442848e-01],\n",
              "       [ 3.81278572e-01,  1.02532046e+00, -1.38221530e+00,\n",
              "        -3.45582490e-01],\n",
              "       [ 7.88049077e-01,  1.02532046e+00, -1.96547978e+00,\n",
              "        -5.19414919e-01],\n",
              "       [-9.08226882e-02,  1.02532046e+00, -1.57663679e+00,\n",
              "         3.20775154e-01],\n",
              "       [-1.55447849e+00, -9.75304830e-01, -4.10107836e-01,\n",
              "        -7.80163563e-01],\n",
              "       [-2.53071135e-01, -9.75304830e-01, -7.01740076e-01,\n",
              "        -1.04091221e+00],\n",
              "       [-1.37870698e+00, -9.75304830e-01,  1.04805336e+00,\n",
              "        -9.82968063e-01],\n",
              "       [ 1.06549193e+00,  1.02532046e+00, -1.09058306e+00,\n",
              "         5.23579655e-01],\n",
              "       [-2.39391976e-01,  1.02532046e+00,  2.70367388e-01,\n",
              "        -5.19414919e-01],\n",
              "       [-1.32190441e+00, -9.75304830e-01, -1.09058306e+00,\n",
              "         4.07691369e-01],\n",
              "       [ 1.69914633e+00,  1.02532046e+00, -3.12897090e-01,\n",
              "        -1.44652121e+00],\n",
              "       [ 2.00029717e-01, -9.75304830e-01,  4.64788881e-01,\n",
              "         1.21890937e+00],\n",
              "       [-5.15103652e-01, -9.75304830e-01, -1.09058306e+00,\n",
              "        -3.45582490e-01],\n",
              "       [ 1.45715009e+00, -9.75304830e-01, -1.18475597e-01,\n",
              "         2.91803083e-01],\n",
              "       [ 8.35145683e-01, -9.75304830e-01,  1.33968560e+00,\n",
              "         5.81523798e-01],\n",
              "       [ 1.01321598e+00,  1.02532046e+00, -1.18779381e+00,\n",
              "        -1.15680049e+00],\n",
              "       [-1.09283526e+00,  1.02532046e+00,  1.04805336e+00,\n",
              "         4.65635512e-01],\n",
              "       [ 1.19747311e+00, -9.75304830e-01,  1.82573933e+00,\n",
              "         1.50863009e+00],\n",
              "       [-9.70148534e-01, -9.75304830e-01, -4.10107836e-01,\n",
              "        -1.30166085e+00],\n",
              "       [-1.76683183e+00, -9.75304830e-01, -3.12897090e-01,\n",
              "        -3.74554562e-01],\n",
              "       [-1.70662366e+00,  1.02532046e+00, -4.10107836e-01,\n",
              "         1.30582558e+00],\n",
              "       [-1.15694568e+00, -9.75304830e-01,  2.02016082e+00,\n",
              "         5.23579655e-01],\n",
              "       [ 7.23725813e-01,  1.02532046e+00,  6.59210374e-01,\n",
              "        -1.09885635e+00],\n",
              "       [ 7.62251660e-01, -9.75304830e-01, -8.96161568e-01,\n",
              "         3.78719297e-01],\n",
              "       [-1.70893663e+00, -9.75304830e-01, -1.18779381e+00,\n",
              "         2.91803083e-01],\n",
              "       [ 1.44193841e+00,  1.02532046e+00,  1.04805336e+00,\n",
              "        -1.21474464e+00],\n",
              "       [-7.36808194e-01,  1.02532046e+00, -1.47942605e+00,\n",
              "        -1.44652121e+00],\n",
              "       [-1.39522414e+00,  1.02532046e+00, -6.04529329e-01,\n",
              "        -1.50446535e+00],\n",
              "       [ 1.42143386e+00,  1.02532046e+00,  2.11737157e+00,\n",
              "        -8.09135634e-01],\n",
              "       [ 1.60063936e+00,  1.02532046e+00, -1.86826903e+00,\n",
              "         1.75914797e-01],\n",
              "       [ 1.19444714e-01,  1.02532046e+00, -2.15686344e-01,\n",
              "         8.42272441e-01],\n",
              "       [-4.13418121e-01, -9.75304830e-01, -1.86826903e+00,\n",
              "        -1.27268878e+00],\n",
              "       [ 1.18546837e+00,  1.02532046e+00,  2.11737157e+00,\n",
              "         3.78719297e-01],\n",
              "       [ 7.83579228e-01, -9.75304830e-01, -1.38221530e+00,\n",
              "         5.52551726e-01],\n",
              "       [ 5.33139939e-01,  1.02532046e+00, -1.09058306e+00,\n",
              "        -3.45582490e-01],\n",
              "       [-1.21855865e+00,  1.02532046e+00,  1.73156642e-01,\n",
              "        -6.64275277e-01],\n",
              "       [ 3.78752752e-01, -9.75304830e-01,  3.67578135e-01,\n",
              "         2.08236764e-03],\n",
              "       [ 5.14746197e-02, -9.75304830e-01, -6.04529329e-01,\n",
              "         2.31984809e+00],\n",
              "       [ 1.70245260e+00, -9.75304830e-01, -3.12897090e-01,\n",
              "         2.04886868e-01],\n",
              "       [-1.61799293e+00, -9.75304830e-01, -1.57663679e+00,\n",
              "        -2.00722133e-01],\n",
              "       [-5.91928306e-01,  1.02532046e+00,  6.59210374e-01,\n",
              "        -1.38857706e+00],\n",
              "       [ 1.40000697e+00,  1.02532046e+00, -1.09058306e+00,\n",
              "         5.52551726e-01],\n",
              "       [-8.83036131e-01,  1.02532046e+00, -1.96547978e+00,\n",
              "         3.49747226e-01],\n",
              "       [ 1.09392869e+00, -9.75304830e-01,  3.67578135e-01,\n",
              "         2.62831011e-01],\n",
              "       [-1.32153547e+00, -9.75304830e-01,  1.73156642e-01,\n",
              "        -2.87638347e-01],\n",
              "       [ 1.24344871e+00, -9.75304830e-01,  1.43689635e+00,\n",
              "        -1.04091221e+00],\n",
              "       [-7.32565384e-01, -9.75304830e-01,  8.53631867e-01,\n",
              "         1.07404901e+00]])"
            ]
          },
          "metadata": {},
          "execution_count": 25
        }
      ]
    },
    {
      "cell_type": "code",
      "source": [
        "from sklearn.linear_model import LogisticRegression\n",
        "classifier=LogisticRegression(random_state=0)\n",
        "classifier.fit(x_train,y_train)"
      ],
      "metadata": {
        "colab": {
          "base_uri": "https://localhost:8080/",
          "height": 74
        },
        "id": "n75Qt1tj0XYw",
        "outputId": "25c9fe38-3a81-4e89-d0dd-d48a7bcea63a"
      },
      "execution_count": null,
      "outputs": [
        {
          "output_type": "execute_result",
          "data": {
            "text/plain": [
              "LogisticRegression(random_state=0)"
            ],
            "text/html": [
              "<style>#sk-container-id-1 {color: black;background-color: white;}#sk-container-id-1 pre{padding: 0;}#sk-container-id-1 div.sk-toggleable {background-color: white;}#sk-container-id-1 label.sk-toggleable__label {cursor: pointer;display: block;width: 100%;margin-bottom: 0;padding: 0.3em;box-sizing: border-box;text-align: center;}#sk-container-id-1 label.sk-toggleable__label-arrow:before {content: \"▸\";float: left;margin-right: 0.25em;color: #696969;}#sk-container-id-1 label.sk-toggleable__label-arrow:hover:before {color: black;}#sk-container-id-1 div.sk-estimator:hover label.sk-toggleable__label-arrow:before {color: black;}#sk-container-id-1 div.sk-toggleable__content {max-height: 0;max-width: 0;overflow: hidden;text-align: left;background-color: #f0f8ff;}#sk-container-id-1 div.sk-toggleable__content pre {margin: 0.2em;color: black;border-radius: 0.25em;background-color: #f0f8ff;}#sk-container-id-1 input.sk-toggleable__control:checked~div.sk-toggleable__content {max-height: 200px;max-width: 100%;overflow: auto;}#sk-container-id-1 input.sk-toggleable__control:checked~label.sk-toggleable__label-arrow:before {content: \"▾\";}#sk-container-id-1 div.sk-estimator input.sk-toggleable__control:checked~label.sk-toggleable__label {background-color: #d4ebff;}#sk-container-id-1 div.sk-label input.sk-toggleable__control:checked~label.sk-toggleable__label {background-color: #d4ebff;}#sk-container-id-1 input.sk-hidden--visually {border: 0;clip: rect(1px 1px 1px 1px);clip: rect(1px, 1px, 1px, 1px);height: 1px;margin: -1px;overflow: hidden;padding: 0;position: absolute;width: 1px;}#sk-container-id-1 div.sk-estimator {font-family: monospace;background-color: #f0f8ff;border: 1px dotted black;border-radius: 0.25em;box-sizing: border-box;margin-bottom: 0.5em;}#sk-container-id-1 div.sk-estimator:hover {background-color: #d4ebff;}#sk-container-id-1 div.sk-parallel-item::after {content: \"\";width: 100%;border-bottom: 1px solid gray;flex-grow: 1;}#sk-container-id-1 div.sk-label:hover label.sk-toggleable__label {background-color: #d4ebff;}#sk-container-id-1 div.sk-serial::before {content: \"\";position: absolute;border-left: 1px solid gray;box-sizing: border-box;top: 0;bottom: 0;left: 50%;z-index: 0;}#sk-container-id-1 div.sk-serial {display: flex;flex-direction: column;align-items: center;background-color: white;padding-right: 0.2em;padding-left: 0.2em;position: relative;}#sk-container-id-1 div.sk-item {position: relative;z-index: 1;}#sk-container-id-1 div.sk-parallel {display: flex;align-items: stretch;justify-content: center;background-color: white;position: relative;}#sk-container-id-1 div.sk-item::before, #sk-container-id-1 div.sk-parallel-item::before {content: \"\";position: absolute;border-left: 1px solid gray;box-sizing: border-box;top: 0;bottom: 0;left: 50%;z-index: -1;}#sk-container-id-1 div.sk-parallel-item {display: flex;flex-direction: column;z-index: 1;position: relative;background-color: white;}#sk-container-id-1 div.sk-parallel-item:first-child::after {align-self: flex-end;width: 50%;}#sk-container-id-1 div.sk-parallel-item:last-child::after {align-self: flex-start;width: 50%;}#sk-container-id-1 div.sk-parallel-item:only-child::after {width: 0;}#sk-container-id-1 div.sk-dashed-wrapped {border: 1px dashed gray;margin: 0 0.4em 0.5em 0.4em;box-sizing: border-box;padding-bottom: 0.4em;background-color: white;}#sk-container-id-1 div.sk-label label {font-family: monospace;font-weight: bold;display: inline-block;line-height: 1.2em;}#sk-container-id-1 div.sk-label-container {text-align: center;}#sk-container-id-1 div.sk-container {/* jupyter's `normalize.less` sets `[hidden] { display: none; }` but bootstrap.min.css set `[hidden] { display: none !important; }` so we also need the `!important` here to be able to override the default hidden behavior on the sphinx rendered scikit-learn.org. See: https://github.com/scikit-learn/scikit-learn/issues/21755 */display: inline-block !important;position: relative;}#sk-container-id-1 div.sk-text-repr-fallback {display: none;}</style><div id=\"sk-container-id-1\" class=\"sk-top-container\"><div class=\"sk-text-repr-fallback\"><pre>LogisticRegression(random_state=0)</pre><b>In a Jupyter environment, please rerun this cell to show the HTML representation or trust the notebook. <br />On GitHub, the HTML representation is unable to render, please try loading this page with nbviewer.org.</b></div><div class=\"sk-container\" hidden><div class=\"sk-item\"><div class=\"sk-estimator sk-toggleable\"><input class=\"sk-toggleable__control sk-hidden--visually\" id=\"sk-estimator-id-1\" type=\"checkbox\" checked><label for=\"sk-estimator-id-1\" class=\"sk-toggleable__label sk-toggleable__label-arrow\">LogisticRegression</label><div class=\"sk-toggleable__content\"><pre>LogisticRegression(random_state=0)</pre></div></div></div></div></div>"
            ]
          },
          "metadata": {},
          "execution_count": 28
        }
      ]
    },
    {
      "cell_type": "code",
      "source": [
        "y_pred=classifier.predict(x_test)"
      ],
      "metadata": {
        "id": "-5FTKV7B1YFI"
      },
      "execution_count": null,
      "outputs": []
    },
    {
      "cell_type": "code",
      "source": [
        "y_pred"
      ],
      "metadata": {
        "colab": {
          "base_uri": "https://localhost:8080/"
        },
        "id": "CihPTId82IpW",
        "outputId": "18efe1a0-4253-4450-fb10-ddea6e0350b0"
      },
      "execution_count": null,
      "outputs": [
        {
          "output_type": "execute_result",
          "data": {
            "text/plain": [
              "array([0, 0, 0, 0, 0, 0, 0, 1, 0, 1, 0, 0, 0, 0, 0, 0, 0, 0, 1, 0, 0, 1,\n",
              "       0, 1, 0, 1, 0, 0, 0, 0, 0, 0, 1, 0, 0, 0, 0, 0, 0, 1, 0, 0, 0, 0,\n",
              "       1, 0, 0, 1, 0, 1, 1, 0, 0, 0, 1, 0, 0, 0, 0, 0, 0, 1, 0, 0, 0, 1,\n",
              "       0, 0, 0, 0, 1, 0, 0, 0, 0, 0, 0, 0, 1, 1])"
            ]
          },
          "metadata": {},
          "execution_count": 30
        }
      ]
    },
    {
      "cell_type": "code",
      "source": [
        "from sklearn.metrics import confusion_matrix\n",
        "cm=confusion_matrix(y_test,y_pred)"
      ],
      "metadata": {
        "id": "7-PAHsUK2L5_"
      },
      "execution_count": null,
      "outputs": []
    },
    {
      "cell_type": "code",
      "source": [
        "cm"
      ],
      "metadata": {
        "colab": {
          "base_uri": "https://localhost:8080/"
        },
        "id": "k88T0Yvh3Mz6",
        "outputId": "f2ed8503-fa2d-4a42-c5c3-c35e8b7419f8"
      },
      "execution_count": null,
      "outputs": [
        {
          "output_type": "execute_result",
          "data": {
            "text/plain": [
              "array([[57,  1],\n",
              "       [ 5, 17]])"
            ]
          },
          "metadata": {},
          "execution_count": 34
        }
      ]
    },
    {
      "cell_type": "code",
      "source": [
        "fig, ax = plt.subplots(figsize=(5, 5))\n",
        "ax.imshow(cm)\n",
        "ax.grid(False)\n",
        "ax.xaxis.set(ticks=(0, 1), ticklabels=('Predicted 0s', 'Predicted 1s'))\n",
        "ax.yaxis.set(ticks=(0, 1), ticklabels=('Actual 0s', 'Actual 1s'))\n",
        "ax.set_ylim(1.5, -0.5)\n",
        "for i in range(2):\n",
        "    for j in range(2):\n",
        "        ax.text(j, i, cm[i, j], ha='center', va='center', color='red')\n",
        "plt.show()"
      ],
      "metadata": {
        "colab": {
          "base_uri": "https://localhost:8080/",
          "height": 445
        },
        "id": "PXH-QOC35RRu",
        "outputId": "c1a8b46b-c57e-4bff-fe2c-0b8c008f4f90"
      },
      "execution_count": null,
      "outputs": [
        {
          "output_type": "display_data",
          "data": {
            "text/plain": [
              "<Figure size 500x500 with 1 Axes>"
            ],
            "image/png": "[encoded data removed]"
          },
          "metadata": {}
        }
      ]
    },
    {
      "cell_type": "code",
      "source": [
        "from sklearn.metrics import classification_report\n",
        "print(classification_report(y_test, y_pred))"
      ],
      "metadata": {
        "colab": {
          "base_uri": "https://localhost:8080/"
        },
        "id": "6t9EnFVl5ynh",
        "outputId": "4386502f-3a2e-4e90-d3e5-66386b9b44ce"
      },
      "execution_count": null,
      "outputs": [
        {
          "output_type": "stream",
          "name": "stdout",
          "text": [
            "              precision    recall  f1-score   support\n",
            "\n",
            "           0       0.92      0.98      0.95        58\n",
            "           1       0.94      0.77      0.85        22\n",
            "\n",
            "    accuracy                           0.93        80\n",
            "   macro avg       0.93      0.88      0.90        80\n",
            "weighted avg       0.93      0.93      0.92        80\n",
            "\n"
          ]
        }
      ]
    }
  ]
}